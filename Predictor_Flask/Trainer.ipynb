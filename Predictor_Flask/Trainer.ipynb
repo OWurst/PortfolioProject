{
 "cells": [
  {
   "attachments": {},
   "cell_type": "markdown",
   "metadata": {},
   "source": [
    "## "
   ]
  },
  {
   "attachments": {},
   "cell_type": "markdown",
   "metadata": {},
   "source": [
    "## Trainer Notebook\n",
    "This notebook will be used to train the models used by the prediction in what will be multi-step machine learning processes. Because I have limited experience with ML, I have elected to go with a notebook for the training logic so that I can monitor the algorithms a little more closely by completing them step by step. As I develop this, if I get to the point where I am happy with the algorithm's functionality and ability to actually predict future outcomes with some degree of accuracy, I may elect to copy and paste this code into a single file that would allow other users to simply input their training data filenames, but I will cross that bridge if it comes."
   ]
  },
  {
   "cell_type": "code",
   "execution_count": 1,
   "metadata": {},
   "outputs": [
    {
     "name": "stdout",
     "output_type": "stream",
     "text": [
      "hello world\n"
     ]
    }
   ],
   "source": [
    "print(\"hello world\")"
   ]
  }
 ],
 "metadata": {
  "kernelspec": {
   "display_name": "Python 3",
   "language": "python",
   "name": "python3"
  },
  "language_info": {
   "codemirror_mode": {
    "name": "ipython",
    "version": 3
   },
   "file_extension": ".py",
   "mimetype": "text/x-python",
   "name": "python",
   "nbconvert_exporter": "python",
   "pygments_lexer": "ipython3",
   "version": "3.10.11"
  },
  "orig_nbformat": 4
 },
 "nbformat": 4,
 "nbformat_minor": 2
}
